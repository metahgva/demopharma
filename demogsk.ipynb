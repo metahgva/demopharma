{
 "cells": [
  {
   "cell_type": "code",
   "execution_count": 5,
   "id": "0af162a2",
   "metadata": {},
   "outputs": [
    {
     "name": "stdout",
     "output_type": "stream",
     "text": [
      "          0         1         2         3         4\n",
      "0  0.718051  0.402322  0.710228  0.546634  0.662101\n",
      "1  0.025673  0.742479  0.777713  0.098637  0.596047\n",
      "2  0.887473  0.193762  0.305331  0.315443  0.586618\n",
      "3  0.403405  0.390597  0.882783  0.915338  0.067616\n",
      "4  0.203517  0.703596  0.405211  0.366733  0.681207\n"
     ]
    }
   ],
   "source": [
    "import numpy as np\n",
    "import pandas as pd\n",
    "\n",
    "# Generate a 5x5 table with random values\n",
    "random_table = pd.DataFrame(np.random.rand(5, 5))\n",
    "\n",
    "# Display the output table\n",
    "print(random_table)\n",
    "\n",
    "# Save the table to a CSV file\n",
    "random_table.to_csv('random_table.csv', index=False)"
   ]
  },
  {
   "cell_type": "code",
   "execution_count": null,
   "id": "28536608",
   "metadata": {},
   "outputs": [],
   "source": []
  }
 ],
 "metadata": {
  "kernelspec": {
   "display_name": "Python 3 (ipykernel)",
   "language": "python",
   "name": "python3"
  },
  "language_info": {
   "codemirror_mode": {
    "name": "ipython",
    "version": 3
   },
   "file_extension": ".py",
   "mimetype": "text/x-python",
   "name": "python",
   "nbconvert_exporter": "python",
   "pygments_lexer": "ipython3",
   "version": "3.10.14"
  }
 },
 "nbformat": 4,
 "nbformat_minor": 5
}
