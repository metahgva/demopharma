{
 "cells": [
  {
   "cell_type": "code",
   "execution_count": 6,
   "id": "0af162a2",
   "metadata": {},
   "outputs": [
    {
     "name": "stdout",
     "output_type": "stream",
     "text": [
      "          0         1         2         3         4\n",
      "0  0.186592  0.911666  0.319596  0.882485  0.296467\n",
      "1  0.290834  0.952817  0.925672  0.878087  0.928277\n",
      "2  0.387661  0.282212  0.807296  0.294891  0.884725\n",
      "3  0.230755  0.020818  0.295118  0.080389  0.084952\n",
      "4  0.972958  0.917665  0.654194  0.154807  0.025419\n"
     ]
    }
   ],
   "source": [
    "import numpy as np\n",
    "import pandas as pd\n",
    "\n",
    "# Generate a 5x5 table with random values\n",
    "random_table = pd.DataFrame(np.random.rand(5, 5))\n",
    "\n",
    "# Display the output table\n",
    "print(random_table)\n",
    "\n",
    "# Save the table to a CSV file\n",
    "random_table.to_csv('/mnt/artifacts/random_table.csv', index=False)"
   ]
  },
  {
   "cell_type": "code",
   "execution_count": 8,
   "id": "28536608",
   "metadata": {},
   "outputs": [
    {
     "name": "stdout",
     "output_type": "stream",
     "text": [
      "          0         1         2         3         4\n",
      "0  0.552327  0.925658  0.997832  0.283342  0.038425\n",
      "1  0.220915  0.910186  0.892619  0.878311  0.933073\n",
      "2  0.970605  0.231206  0.574020  0.098994  0.370496\n",
      "3  0.227221  0.409262  0.152357  0.088483  0.742475\n",
      "4  0.260397  0.731056  0.505773  0.014587  0.409202\n",
      "Table has been saved as 'random_table.pdf'.\n"
     ]
    }
   ],
   "source": [
    "import numpy as np\n",
    "import pandas as pd\n",
    "import matplotlib.pyplot as plt\n",
    "from matplotlib.backends.backend_pdf import PdfPages\n",
    "\n",
    "# Generate a 5x5 table with random values\n",
    "random_table = pd.DataFrame(np.random.rand(5, 5))\n",
    "\n",
    "# Display the output table\n",
    "print(random_table)\n",
    "\n",
    "# Save the table as a PDF\n",
    "with PdfPages('/mnt/artifacts/random_table.pdf') as pdf:\n",
    "    fig, ax = plt.subplots(figsize=(8, 6))  # Adjust figure size if needed\n",
    "    ax.axis('tight')\n",
    "    ax.axis('off')\n",
    "    table = ax.table(cellText=random_table.values, colLabels=random_table.columns, loc='center')\n",
    "    pdf.savefig(fig)\n",
    "    plt.close()\n",
    "\n",
    "print(\"Table has been saved as 'random_table.pdf'.\")\n",
    "\n",
    "# Save the table to a CSV file\n",
    "random_table.to_csv('/mnt/artifacts/random_table.csv', index=False)"
   ]
  },
  {
   "cell_type": "code",
   "execution_count": null,
   "id": "24622e46",
   "metadata": {},
   "outputs": [],
   "source": []
  }
 ],
 "metadata": {
  "kernelspec": {
   "display_name": "Python 3 (ipykernel)",
   "language": "python",
   "name": "python3"
  },
  "language_info": {
   "codemirror_mode": {
    "name": "ipython",
    "version": 3
   },
   "file_extension": ".py",
   "mimetype": "text/x-python",
   "name": "python",
   "nbconvert_exporter": "python",
   "pygments_lexer": "ipython3",
   "version": "3.10.14"
  }
 },
 "nbformat": 4,
 "nbformat_minor": 5
}
