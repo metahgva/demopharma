{
 "cells": [
  {
   "cell_type": "code",
   "execution_count": 6,
   "id": "0af162a2",
   "metadata": {},
   "outputs": [
    {
     "name": "stdout",
     "output_type": "stream",
     "text": [
      "          0         1         2         3         4\n",
      "0  0.186592  0.911666  0.319596  0.882485  0.296467\n",
      "1  0.290834  0.952817  0.925672  0.878087  0.928277\n",
      "2  0.387661  0.282212  0.807296  0.294891  0.884725\n",
      "3  0.230755  0.020818  0.295118  0.080389  0.084952\n",
      "4  0.972958  0.917665  0.654194  0.154807  0.025419\n"
     ]
    }
   ],
   "source": [
    "import numpy as np\n",
    "import pandas as pd\n",
    "\n",
    "# Generate a 5x5 table with random values\n",
    "random_table = pd.DataFrame(np.random.rand(5, 5))\n",
    "\n",
    "# Display the output table\n",
    "print(random_table)\n",
    "\n",
    "# Save the table to a CSV file\n",
    "random_table.to_csv('/mnt/artifacts/random_table.csv', index=False)"
   ]
  },
  {
   "cell_type": "code",
   "execution_count": 7,
   "id": "28536608",
   "metadata": {},
   "outputs": [
    {
     "name": "stdout",
     "output_type": "stream",
     "text": [
      "          0         1         2         3         4\n",
      "0  0.920569  0.898351  0.642373  0.896522  0.281789\n",
      "1  0.625124  0.169757  0.997741  0.206183  0.990473\n",
      "2  0.569002  0.127316  0.680087  0.256934  0.189739\n",
      "3  0.797694  0.664622  0.832868  0.331982  0.789451\n",
      "4  0.640212  0.139153  0.542782  0.637003  0.578823\n",
      "Table has been saved as 'random_table.pdf'.\n"
     ]
    }
   ],
   "source": [
    "import numpy as np\n",
    "import pandas as pd\n",
    "import matplotlib.pyplot as plt\n",
    "from matplotlib.backends.backend_pdf import PdfPages\n",
    "\n",
    "# Generate a 5x5 table with random values\n",
    "random_table = pd.DataFrame(np.random.rand(5, 5))\n",
    "\n",
    "# Display the output table\n",
    "print(random_table)\n",
    "\n",
    "# Save the table as a PDF\n",
    "with PdfPages('/mnt/artifacts/random_table.pdf') as pdf:\n",
    "    fig, ax = plt.subplots(figsize=(8, 6))  # Adjust figure size if needed\n",
    "    ax.axis('tight')\n",
    "    ax.axis('off')\n",
    "    table = ax.table(cellText=random_table.values, colLabels=random_table.columns, loc='center')\n",
    "    pdf.savefig(fig)\n",
    "    plt.close()\n",
    "\n",
    "print(\"Table has been saved as 'random_table.pdf'.\")"
   ]
  },
  {
   "cell_type": "code",
   "execution_count": null,
   "id": "24622e46",
   "metadata": {},
   "outputs": [],
   "source": []
  }
 ],
 "metadata": {
  "kernelspec": {
   "display_name": "Python 3 (ipykernel)",
   "language": "python",
   "name": "python3"
  },
  "language_info": {
   "codemirror_mode": {
    "name": "ipython",
    "version": 3
   },
   "file_extension": ".py",
   "mimetype": "text/x-python",
   "name": "python",
   "nbconvert_exporter": "python",
   "pygments_lexer": "ipython3",
   "version": "3.10.14"
  }
 },
 "nbformat": 4,
 "nbformat_minor": 5
}
